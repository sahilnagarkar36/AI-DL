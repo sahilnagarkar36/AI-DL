{
  "nbformat": 4,
  "nbformat_minor": 0,
  "metadata": {
    "colab": {
      "provenance": [],
      "authorship_tag": "ABX9TyN6nLJbNZyK2Em/J+ewEeta",
      "include_colab_link": true
    },
    "kernelspec": {
      "name": "python3",
      "display_name": "Python 3"
    },
    "language_info": {
      "name": "python"
    }
  },
  "cells": [
    {
      "cell_type": "markdown",
      "metadata": {
        "id": "view-in-github",
        "colab_type": "text"
      },
      "source": [
        "<a href=\"https://colab.research.google.com/github/sahilnagarkar36/AI-DL/blob/main/4RNN.ipynb\" target=\"_parent\"><img src=\"https://colab.research.google.com/assets/colab-badge.svg\" alt=\"Open In Colab\"/></a>"
      ]
    },
    {
      "cell_type": "code",
      "execution_count": 1,
      "metadata": {
        "id": "J_ryvydHLyRN"
      },
      "outputs": [],
      "source": [
        "import numpy as np\n",
        "import pandas as pd\n",
        "import yfinance as yf\n",
        "import datetime as dt\n",
        "import matplotlib.pyplot as plt\n",
        "import math\n"
      ]
    },
    {
      "cell_type": "code",
      "source": [
        "#the start and end date\n",
        "start_date = dt.datetime(2020,4,1)\n",
        "end_date = dt.datetime(2023,4,1)\n",
        "\n",
        "#loading from yahoo finance\n",
        "data = yf.download(\"GOOGL\",start_date, end_date)\n",
        "\n",
        "pd.set_option('display.max_rows', 4)\n",
        "pd.set_option('display.max_columns',5)\n",
        "print(data)\n"
      ],
      "metadata": {
        "colab": {
          "base_uri": "https://localhost:8080/"
        },
        "id": "B7zCfskGL7Mw",
        "outputId": "399762fa-544b-4fc6-e5c1-dc7b4cad3fb3"
      },
      "execution_count": 2,
      "outputs": [
        {
          "output_type": "stream",
          "name": "stderr",
          "text": [
            "\r[*********************100%***********************]  1 of 1 completed"
          ]
        },
        {
          "output_type": "stream",
          "name": "stdout",
          "text": [
            "                  Open        High  ...   Adj Close    Volume\n",
            "Date                                ...                      \n",
            "2020-04-01   56.200001   56.471001  ...   54.968887  51970000\n",
            "2020-04-02   55.000000   56.138500  ...   55.713547  56410000\n",
            "...                ...         ...  ...         ...       ...\n",
            "2023-03-30  100.910004  101.160004  ...  100.640800  33086200\n",
            "2023-03-31  101.300003  103.889999  ...  103.473785  36863400\n",
            "\n",
            "[756 rows x 6 columns]\n"
          ]
        },
        {
          "output_type": "stream",
          "name": "stderr",
          "text": [
            "\n"
          ]
        }
      ]
    },
    {
      "cell_type": "code",
      "source": [
        "# Setting 80 percent data for training\n",
        "training_data_len = math.ceil(len(data) * .8)\n",
        "training_data_len\n",
        "\n",
        "#Splitting the dataset\n",
        "train_data = data[:training_data_len].iloc[:,:1]\n",
        "test_data = data[training_data_len:].iloc[:,:1]\n",
        "print(train_data.shape, test_data.shape)\n"
      ],
      "metadata": {
        "colab": {
          "base_uri": "https://localhost:8080/"
        },
        "id": "x3cNIuPaL_ib",
        "outputId": "87d6b7f3-b17e-43cb-d90f-308cb52154d4"
      },
      "execution_count": 3,
      "outputs": [
        {
          "output_type": "stream",
          "name": "stdout",
          "text": [
            "(605, 1) (151, 1)\n"
          ]
        }
      ]
    },
    {
      "cell_type": "code",
      "source": [
        "# Selecting Open Price values\n",
        "dataset_train = train_data.Open.values\n",
        "# Reshaping 1D to 2D array\n",
        "dataset_train = np.reshape(dataset_train, (-1,1))\n",
        "dataset_train.shape"
      ],
      "metadata": {
        "colab": {
          "base_uri": "https://localhost:8080/"
        },
        "id": "mz1kyASOMCUk",
        "outputId": "9a1ed8e3-6278-4720-bc1c-569d6f6ea84b"
      },
      "execution_count": 4,
      "outputs": [
        {
          "output_type": "execute_result",
          "data": {
            "text/plain": [
              "(605, 1)"
            ]
          },
          "metadata": {},
          "execution_count": 4
        }
      ]
    },
    {
      "cell_type": "code",
      "source": [
        "from sklearn.preprocessing import MinMaxScaler\n",
        "scaler = MinMaxScaler(feature_range=(0,1))\n",
        "# scaling dataset\n",
        "scaled_train = scaler.fit_transform(dataset_train)\n",
        "\n",
        "print(scaled_train[:5])\n"
      ],
      "metadata": {
        "colab": {
          "base_uri": "https://localhost:8080/"
        },
        "id": "XCiovQ-GMIf7",
        "outputId": "ea6fbab9-ea6c-415f-bcef-4a951b35a12f"
      },
      "execution_count": 5,
      "outputs": [
        {
          "output_type": "stream",
          "name": "stdout",
          "text": [
            "[[0.01246754]\n",
            " [0.        ]\n",
            " [0.00764156]\n",
            " [0.01714287]\n",
            " [0.0607844 ]]\n"
          ]
        }
      ]
    },
    {
      "cell_type": "code",
      "source": [
        "# Selecting Open Price values\n",
        "dataset_test = test_data.Open.values\n",
        "# Reshaping 1D to 2D array\n",
        "dataset_test = np.reshape(dataset_test, (-1,1))\n",
        "# Normalizing values between 0 and 1\n",
        "scaled_test = scaler.fit_transform(dataset_test)\n",
        "print(*scaled_test[:5])\n"
      ],
      "metadata": {
        "colab": {
          "base_uri": "https://localhost:8080/"
        },
        "id": "7oD21LFSMMj7",
        "outputId": "ae982b71-1b4b-4486-a41d-ff7a59a71209"
      },
      "execution_count": 6,
      "outputs": [
        {
          "output_type": "stream",
          "name": "stdout",
          "text": [
            "[0.98362881] [1.] [0.83867656] [0.84481572] [0.86118691]\n"
          ]
        }
      ]
    },
    {
      "cell_type": "code",
      "source": [
        "X_train = []\n",
        "y_train = []\n",
        "for i in range(50, len(scaled_train)):\n",
        "    X_train.append(scaled_train[i-50:i, 0])\n",
        "    y_train.append(scaled_train[i, 0])\n",
        "    if i <= 51:\n",
        "        print(X_train)\n",
        "        print(y_train)\n",
        "        print()\n"
      ],
      "metadata": {
        "colab": {
          "base_uri": "https://localhost:8080/"
        },
        "id": "iI1d-ZItMQSL",
        "outputId": "c49bdbef-8f3d-40c2-ba64-812fcde34af9"
      },
      "execution_count": 7,
      "outputs": [
        {
          "output_type": "stream",
          "name": "stdout",
          "text": [
            "[array([0.01246754, 0.        , 0.00764156, 0.01714287, 0.0607844 ,\n",
            "       0.05355843, 0.06139221, 0.05272728, 0.0727117 , 0.0761091 ,\n",
            "       0.08682596, 0.0943896 , 0.08825454, 0.07413508, 0.0733039 ,\n",
            "       0.08609869, 0.08051948, 0.09974024, 0.09516887, 0.12727273,\n",
            "       0.12018702, 0.11641037, 0.1081195 , 0.12337662, 0.13402599,\n",
            "       0.13574544, 0.14640004, 0.14378702, 0.16011432, 0.14345973,\n",
            "       0.12130912, 0.12896625, 0.13588574, 0.14830132, 0.15021299,\n",
            "       0.16155324, 0.15787013, 0.17764155, 0.16623377, 0.15584416,\n",
            "       0.16645714, 0.16919484, 0.17402597, 0.178026  , 0.17495062,\n",
            "       0.16396881, 0.16949613, 0.17934547, 0.18779741, 0.17715843])]\n",
            "[0.16927791446834417]\n",
            "\n",
            "[array([0.01246754, 0.        , 0.00764156, 0.01714287, 0.0607844 ,\n",
            "       0.05355843, 0.06139221, 0.05272728, 0.0727117 , 0.0761091 ,\n",
            "       0.08682596, 0.0943896 , 0.08825454, 0.07413508, 0.0733039 ,\n",
            "       0.08609869, 0.08051948, 0.09974024, 0.09516887, 0.12727273,\n",
            "       0.12018702, 0.11641037, 0.1081195 , 0.12337662, 0.13402599,\n",
            "       0.13574544, 0.14640004, 0.14378702, 0.16011432, 0.14345973,\n",
            "       0.12130912, 0.12896625, 0.13588574, 0.14830132, 0.15021299,\n",
            "       0.16155324, 0.15787013, 0.17764155, 0.16623377, 0.15584416,\n",
            "       0.16645714, 0.16919484, 0.17402597, 0.178026  , 0.17495062,\n",
            "       0.16396881, 0.16949613, 0.17934547, 0.18779741, 0.17715843]), array([0.        , 0.00764156, 0.01714287, 0.0607844 , 0.05355843,\n",
            "       0.06139221, 0.05272728, 0.0727117 , 0.0761091 , 0.08682596,\n",
            "       0.0943896 , 0.08825454, 0.07413508, 0.0733039 , 0.08609869,\n",
            "       0.08051948, 0.09974024, 0.09516887, 0.12727273, 0.12018702,\n",
            "       0.11641037, 0.1081195 , 0.12337662, 0.13402599, 0.13574544,\n",
            "       0.14640004, 0.14378702, 0.16011432, 0.14345973, 0.12130912,\n",
            "       0.12896625, 0.13588574, 0.14830132, 0.15021299, 0.16155324,\n",
            "       0.15787013, 0.17764155, 0.16623377, 0.15584416, 0.16645714,\n",
            "       0.16919484, 0.17402597, 0.178026  , 0.17495062, 0.16396881,\n",
            "       0.16949613, 0.17934547, 0.18779741, 0.17715843, 0.16927791])]\n",
            "[0.16927791446834417, 0.15038444221793834]\n",
            "\n"
          ]
        }
      ]
    },
    {
      "cell_type": "code",
      "source": [
        "X_test = []\n",
        "y_test = []\n",
        "for i in range(50, len(scaled_test)):\n",
        "    X_test.append(scaled_test[i-50:i, 0])\n",
        "    y_test.append(scaled_test[i, 0])"
      ],
      "metadata": {
        "id": "SBc0Qsc7MVsK"
      },
      "execution_count": 9,
      "outputs": []
    },
    {
      "cell_type": "code",
      "source": [
        "# The data is converted to Numpy array\n",
        "X_train, y_train = np.array(X_train), np.array(y_train)\n",
        "\n",
        "#Reshaping\n",
        "X_train = np.reshape(X_train, (X_train.shape[0], X_train.shape[1],1))\n",
        "y_train = np.reshape(y_train, (y_train.shape[0],1))\n",
        "print(\"X_train :\",X_train.shape,\"y_train :\",y_train.shape)\n"
      ],
      "metadata": {
        "colab": {
          "base_uri": "https://localhost:8080/"
        },
        "id": "px_UuHOPMfbM",
        "outputId": "fd61321d-b5d7-4422-bf34-0ccd179c0bf9"
      },
      "execution_count": 10,
      "outputs": [
        {
          "output_type": "stream",
          "name": "stdout",
          "text": [
            "X_train : (555, 50, 1) y_train : (555, 1)\n"
          ]
        }
      ]
    },
    {
      "cell_type": "code",
      "source": [
        "# The data is converted to numpy array\n",
        "X_test, y_test = np.array(X_test), np.array(y_test)\n",
        "\n",
        "#Reshaping\n",
        "X_test = np.reshape(X_test, (X_test.shape[0], X_test.shape[1],1))\n",
        "y_test = np.reshape(y_test, (y_test.shape[0],1))\n",
        "print(\"X_test :\",X_test.shape,\"y_test :\",y_test.shape)\n"
      ],
      "metadata": {
        "colab": {
          "base_uri": "https://localhost:8080/"
        },
        "id": "UbwMgnJ5MuSZ",
        "outputId": "508e5774-cd7c-4291-d957-81acf5d60601"
      },
      "execution_count": 11,
      "outputs": [
        {
          "output_type": "stream",
          "name": "stdout",
          "text": [
            "X_test : (101, 50, 1) y_test : (101, 1)\n"
          ]
        }
      ]
    },
    {
      "cell_type": "code",
      "source": [
        "# importing libraries\n",
        "from keras.models import Sequential\n",
        "from keras.layers import LSTM\n",
        "from keras.layers import Dense\n",
        "from keras.layers import SimpleRNN\n",
        "from keras.layers import Dropout\n",
        "from keras.layers import GRU, Bidirectional\n",
        "from keras.optimizers import SGD\n",
        "from sklearn import metrics\n",
        "from sklearn.metrics import mean_squared_error\n"
      ],
      "metadata": {
        "id": "HmmMLi8MMzMl"
      },
      "execution_count": 12,
      "outputs": []
    },
    {
      "cell_type": "code",
      "source": [
        "# initializing the RNN\n",
        "regressor = Sequential()\n",
        "\n",
        "# adding RNN layers and dropout regularization\n",
        "regressor.add(SimpleRNN(units = 50,\n",
        "                        activation = \"tanh\",\n",
        "                        return_sequences = True,\n",
        "                        input_shape = (X_train.shape[1],1)))\n",
        "regressor.add(Dropout(0.2))\n",
        "\n",
        "regressor.add(SimpleRNN(units = 50,\n",
        "                        activation = \"tanh\",\n",
        "                        return_sequences = True))\n",
        "\n",
        "regressor.add(SimpleRNN(units = 50,\n",
        "                        activation = \"tanh\",\n",
        "                        return_sequences = True))\n",
        "\n",
        "regressor.add( SimpleRNN(units = 50))\n",
        "\n",
        "# adding the output layer\n",
        "regressor.add(Dense(units = 1,activation='sigmoid'))\n",
        "\n",
        "# compiling RNN\n",
        "regressor.compile(optimizer = SGD(learning_rate=0.01,\n",
        "                                  decay=1e-6,\n",
        "                                  momentum=0.9,\n",
        "                                  nesterov=True),\n",
        "                  loss = \"mean_squared_error\")\n",
        "\n",
        "# fitting the model\n",
        "regressor.fit(X_train, y_train, epochs = 20, batch_size = 2)\n",
        "regressor.summary()\n"
      ],
      "metadata": {
        "colab": {
          "base_uri": "https://localhost:8080/",
          "height": 1000
        },
        "id": "Fz7a2BS7M0aN",
        "outputId": "11a14122-7e3f-40c1-b00d-96c173a26964"
      },
      "execution_count": 13,
      "outputs": [
        {
          "output_type": "stream",
          "name": "stdout",
          "text": [
            "Epoch 1/20\n"
          ]
        },
        {
          "output_type": "stream",
          "name": "stderr",
          "text": [
            "/usr/local/lib/python3.10/dist-packages/keras/src/layers/rnn/rnn.py:204: UserWarning: Do not pass an `input_shape`/`input_dim` argument to a layer. When using Sequential models, prefer using an `Input(shape)` object as the first layer in the model instead.\n",
            "  super().__init__(**kwargs)\n",
            "/usr/local/lib/python3.10/dist-packages/keras/src/optimizers/base_optimizer.py:33: UserWarning: Argument `decay` is no longer supported and will be ignored.\n",
            "  warnings.warn(\n"
          ]
        },
        {
          "output_type": "stream",
          "name": "stdout",
          "text": [
            "\u001b[1m278/278\u001b[0m \u001b[32m━━━━━━━━━━━━━━━━━━━━\u001b[0m\u001b[37m\u001b[0m \u001b[1m15s\u001b[0m 35ms/step - loss: 0.0213\n",
            "Epoch 2/20\n",
            "\u001b[1m278/278\u001b[0m \u001b[32m━━━━━━━━━━━━━━━━━━━━\u001b[0m\u001b[37m\u001b[0m \u001b[1m11s\u001b[0m 38ms/step - loss: 0.0045\n",
            "Epoch 3/20\n",
            "\u001b[1m278/278\u001b[0m \u001b[32m━━━━━━━━━━━━━━━━━━━━\u001b[0m\u001b[37m\u001b[0m \u001b[1m21s\u001b[0m 39ms/step - loss: 0.0032\n",
            "Epoch 4/20\n",
            "\u001b[1m278/278\u001b[0m \u001b[32m━━━━━━━━━━━━━━━━━━━━\u001b[0m\u001b[37m\u001b[0m \u001b[1m20s\u001b[0m 38ms/step - loss: 0.0027\n",
            "Epoch 5/20\n",
            "\u001b[1m278/278\u001b[0m \u001b[32m━━━━━━━━━━━━━━━━━━━━\u001b[0m\u001b[37m\u001b[0m \u001b[1m21s\u001b[0m 39ms/step - loss: 0.0031\n",
            "Epoch 6/20\n",
            "\u001b[1m278/278\u001b[0m \u001b[32m━━━━━━━━━━━━━━━━━━━━\u001b[0m\u001b[37m\u001b[0m \u001b[1m21s\u001b[0m 40ms/step - loss: 0.0023\n",
            "Epoch 7/20\n",
            "\u001b[1m278/278\u001b[0m \u001b[32m━━━━━━━━━━━━━━━━━━━━\u001b[0m\u001b[37m\u001b[0m \u001b[1m21s\u001b[0m 43ms/step - loss: 0.0024\n",
            "Epoch 8/20\n",
            "\u001b[1m278/278\u001b[0m \u001b[32m━━━━━━━━━━━━━━━━━━━━\u001b[0m\u001b[37m\u001b[0m \u001b[1m19s\u001b[0m 39ms/step - loss: 0.0024\n",
            "Epoch 9/20\n",
            "\u001b[1m278/278\u001b[0m \u001b[32m━━━━━━━━━━━━━━━━━━━━\u001b[0m\u001b[37m\u001b[0m \u001b[1m20s\u001b[0m 36ms/step - loss: 0.0020\n",
            "Epoch 10/20\n",
            "\u001b[1m278/278\u001b[0m \u001b[32m━━━━━━━━━━━━━━━━━━━━\u001b[0m\u001b[37m\u001b[0m \u001b[1m10s\u001b[0m 36ms/step - loss: 0.0021\n",
            "Epoch 11/20\n",
            "\u001b[1m278/278\u001b[0m \u001b[32m━━━━━━━━━━━━━━━━━━━━\u001b[0m\u001b[37m\u001b[0m \u001b[1m11s\u001b[0m 40ms/step - loss: 0.0017\n",
            "Epoch 12/20\n",
            "\u001b[1m278/278\u001b[0m \u001b[32m━━━━━━━━━━━━━━━━━━━━\u001b[0m\u001b[37m\u001b[0m \u001b[1m20s\u001b[0m 40ms/step - loss: 0.0018\n",
            "Epoch 13/20\n",
            "\u001b[1m278/278\u001b[0m \u001b[32m━━━━━━━━━━━━━━━━━━━━\u001b[0m\u001b[37m\u001b[0m \u001b[1m20s\u001b[0m 39ms/step - loss: 0.0016\n",
            "Epoch 14/20\n",
            "\u001b[1m278/278\u001b[0m \u001b[32m━━━━━━━━━━━━━━━━━━━━\u001b[0m\u001b[37m\u001b[0m \u001b[1m11s\u001b[0m 41ms/step - loss: 0.0018\n",
            "Epoch 15/20\n",
            "\u001b[1m278/278\u001b[0m \u001b[32m━━━━━━━━━━━━━━━━━━━━\u001b[0m\u001b[37m\u001b[0m \u001b[1m20s\u001b[0m 39ms/step - loss: 0.0015\n",
            "Epoch 16/20\n",
            "\u001b[1m278/278\u001b[0m \u001b[32m━━━━━━━━━━━━━━━━━━━━\u001b[0m\u001b[37m\u001b[0m \u001b[1m21s\u001b[0m 40ms/step - loss: 0.0016\n",
            "Epoch 17/20\n",
            "\u001b[1m278/278\u001b[0m \u001b[32m━━━━━━━━━━━━━━━━━━━━\u001b[0m\u001b[37m\u001b[0m \u001b[1m11s\u001b[0m 39ms/step - loss: 0.0017\n",
            "Epoch 18/20\n",
            "\u001b[1m278/278\u001b[0m \u001b[32m━━━━━━━━━━━━━━━━━━━━\u001b[0m\u001b[37m\u001b[0m \u001b[1m20s\u001b[0m 37ms/step - loss: 0.0013\n",
            "Epoch 19/20\n",
            "\u001b[1m278/278\u001b[0m \u001b[32m━━━━━━━━━━━━━━━━━━━━\u001b[0m\u001b[37m\u001b[0m \u001b[1m21s\u001b[0m 39ms/step - loss: 0.0013\n",
            "Epoch 20/20\n",
            "\u001b[1m278/278\u001b[0m \u001b[32m━━━━━━━━━━━━━━━━━━━━\u001b[0m\u001b[37m\u001b[0m \u001b[1m20s\u001b[0m 39ms/step - loss: 0.0018\n"
          ]
        },
        {
          "output_type": "display_data",
          "data": {
            "text/plain": [
              "\u001b[1mModel: \"sequential\"\u001b[0m\n"
            ],
            "text/html": [
              "<pre style=\"white-space:pre;overflow-x:auto;line-height:normal;font-family:Menlo,'DejaVu Sans Mono',consolas,'Courier New',monospace\"><span style=\"font-weight: bold\">Model: \"sequential\"</span>\n",
              "</pre>\n"
            ]
          },
          "metadata": {}
        },
        {
          "output_type": "display_data",
          "data": {
            "text/plain": [
              "┏━━━━━━━━━━━━━━━━━━━━━━━━━━━━━━━━━━━━━━┳━━━━━━━━━━━━━━━━━━━━━━━━━━━━━┳━━━━━━━━━━━━━━━━━┓\n",
              "┃\u001b[1m \u001b[0m\u001b[1mLayer (type)                        \u001b[0m\u001b[1m \u001b[0m┃\u001b[1m \u001b[0m\u001b[1mOutput Shape               \u001b[0m\u001b[1m \u001b[0m┃\u001b[1m \u001b[0m\u001b[1m        Param #\u001b[0m\u001b[1m \u001b[0m┃\n",
              "┡━━━━━━━━━━━━━━━━━━━━━━━━━━━━━━━━━━━━━━╇━━━━━━━━━━━━━━━━━━━━━━━━━━━━━╇━━━━━━━━━━━━━━━━━┩\n",
              "│ simple_rnn (\u001b[38;5;33mSimpleRNN\u001b[0m)               │ (\u001b[38;5;45mNone\u001b[0m, \u001b[38;5;34m50\u001b[0m, \u001b[38;5;34m50\u001b[0m)              │           \u001b[38;5;34m2,600\u001b[0m │\n",
              "├──────────────────────────────────────┼─────────────────────────────┼─────────────────┤\n",
              "│ dropout (\u001b[38;5;33mDropout\u001b[0m)                    │ (\u001b[38;5;45mNone\u001b[0m, \u001b[38;5;34m50\u001b[0m, \u001b[38;5;34m50\u001b[0m)              │               \u001b[38;5;34m0\u001b[0m │\n",
              "├──────────────────────────────────────┼─────────────────────────────┼─────────────────┤\n",
              "│ simple_rnn_1 (\u001b[38;5;33mSimpleRNN\u001b[0m)             │ (\u001b[38;5;45mNone\u001b[0m, \u001b[38;5;34m50\u001b[0m, \u001b[38;5;34m50\u001b[0m)              │           \u001b[38;5;34m5,050\u001b[0m │\n",
              "├──────────────────────────────────────┼─────────────────────────────┼─────────────────┤\n",
              "│ simple_rnn_2 (\u001b[38;5;33mSimpleRNN\u001b[0m)             │ (\u001b[38;5;45mNone\u001b[0m, \u001b[38;5;34m50\u001b[0m, \u001b[38;5;34m50\u001b[0m)              │           \u001b[38;5;34m5,050\u001b[0m │\n",
              "├──────────────────────────────────────┼─────────────────────────────┼─────────────────┤\n",
              "│ simple_rnn_3 (\u001b[38;5;33mSimpleRNN\u001b[0m)             │ (\u001b[38;5;45mNone\u001b[0m, \u001b[38;5;34m50\u001b[0m)                  │           \u001b[38;5;34m5,050\u001b[0m │\n",
              "├──────────────────────────────────────┼─────────────────────────────┼─────────────────┤\n",
              "│ dense (\u001b[38;5;33mDense\u001b[0m)                        │ (\u001b[38;5;45mNone\u001b[0m, \u001b[38;5;34m1\u001b[0m)                   │              \u001b[38;5;34m51\u001b[0m │\n",
              "└──────────────────────────────────────┴─────────────────────────────┴─────────────────┘\n"
            ],
            "text/html": [
              "<pre style=\"white-space:pre;overflow-x:auto;line-height:normal;font-family:Menlo,'DejaVu Sans Mono',consolas,'Courier New',monospace\">┏━━━━━━━━━━━━━━━━━━━━━━━━━━━━━━━━━━━━━━┳━━━━━━━━━━━━━━━━━━━━━━━━━━━━━┳━━━━━━━━━━━━━━━━━┓\n",
              "┃<span style=\"font-weight: bold\"> Layer (type)                         </span>┃<span style=\"font-weight: bold\"> Output Shape                </span>┃<span style=\"font-weight: bold\">         Param # </span>┃\n",
              "┡━━━━━━━━━━━━━━━━━━━━━━━━━━━━━━━━━━━━━━╇━━━━━━━━━━━━━━━━━━━━━━━━━━━━━╇━━━━━━━━━━━━━━━━━┩\n",
              "│ simple_rnn (<span style=\"color: #0087ff; text-decoration-color: #0087ff\">SimpleRNN</span>)               │ (<span style=\"color: #00d7ff; text-decoration-color: #00d7ff\">None</span>, <span style=\"color: #00af00; text-decoration-color: #00af00\">50</span>, <span style=\"color: #00af00; text-decoration-color: #00af00\">50</span>)              │           <span style=\"color: #00af00; text-decoration-color: #00af00\">2,600</span> │\n",
              "├──────────────────────────────────────┼─────────────────────────────┼─────────────────┤\n",
              "│ dropout (<span style=\"color: #0087ff; text-decoration-color: #0087ff\">Dropout</span>)                    │ (<span style=\"color: #00d7ff; text-decoration-color: #00d7ff\">None</span>, <span style=\"color: #00af00; text-decoration-color: #00af00\">50</span>, <span style=\"color: #00af00; text-decoration-color: #00af00\">50</span>)              │               <span style=\"color: #00af00; text-decoration-color: #00af00\">0</span> │\n",
              "├──────────────────────────────────────┼─────────────────────────────┼─────────────────┤\n",
              "│ simple_rnn_1 (<span style=\"color: #0087ff; text-decoration-color: #0087ff\">SimpleRNN</span>)             │ (<span style=\"color: #00d7ff; text-decoration-color: #00d7ff\">None</span>, <span style=\"color: #00af00; text-decoration-color: #00af00\">50</span>, <span style=\"color: #00af00; text-decoration-color: #00af00\">50</span>)              │           <span style=\"color: #00af00; text-decoration-color: #00af00\">5,050</span> │\n",
              "├──────────────────────────────────────┼─────────────────────────────┼─────────────────┤\n",
              "│ simple_rnn_2 (<span style=\"color: #0087ff; text-decoration-color: #0087ff\">SimpleRNN</span>)             │ (<span style=\"color: #00d7ff; text-decoration-color: #00d7ff\">None</span>, <span style=\"color: #00af00; text-decoration-color: #00af00\">50</span>, <span style=\"color: #00af00; text-decoration-color: #00af00\">50</span>)              │           <span style=\"color: #00af00; text-decoration-color: #00af00\">5,050</span> │\n",
              "├──────────────────────────────────────┼─────────────────────────────┼─────────────────┤\n",
              "│ simple_rnn_3 (<span style=\"color: #0087ff; text-decoration-color: #0087ff\">SimpleRNN</span>)             │ (<span style=\"color: #00d7ff; text-decoration-color: #00d7ff\">None</span>, <span style=\"color: #00af00; text-decoration-color: #00af00\">50</span>)                  │           <span style=\"color: #00af00; text-decoration-color: #00af00\">5,050</span> │\n",
              "├──────────────────────────────────────┼─────────────────────────────┼─────────────────┤\n",
              "│ dense (<span style=\"color: #0087ff; text-decoration-color: #0087ff\">Dense</span>)                        │ (<span style=\"color: #00d7ff; text-decoration-color: #00d7ff\">None</span>, <span style=\"color: #00af00; text-decoration-color: #00af00\">1</span>)                   │              <span style=\"color: #00af00; text-decoration-color: #00af00\">51</span> │\n",
              "└──────────────────────────────────────┴─────────────────────────────┴─────────────────┘\n",
              "</pre>\n"
            ]
          },
          "metadata": {}
        },
        {
          "output_type": "display_data",
          "data": {
            "text/plain": [
              "\u001b[1m Total params: \u001b[0m\u001b[38;5;34m35,604\u001b[0m (139.08 KB)\n"
            ],
            "text/html": [
              "<pre style=\"white-space:pre;overflow-x:auto;line-height:normal;font-family:Menlo,'DejaVu Sans Mono',consolas,'Courier New',monospace\"><span style=\"font-weight: bold\"> Total params: </span><span style=\"color: #00af00; text-decoration-color: #00af00\">35,604</span> (139.08 KB)\n",
              "</pre>\n"
            ]
          },
          "metadata": {}
        },
        {
          "output_type": "display_data",
          "data": {
            "text/plain": [
              "\u001b[1m Trainable params: \u001b[0m\u001b[38;5;34m17,801\u001b[0m (69.54 KB)\n"
            ],
            "text/html": [
              "<pre style=\"white-space:pre;overflow-x:auto;line-height:normal;font-family:Menlo,'DejaVu Sans Mono',consolas,'Courier New',monospace\"><span style=\"font-weight: bold\"> Trainable params: </span><span style=\"color: #00af00; text-decoration-color: #00af00\">17,801</span> (69.54 KB)\n",
              "</pre>\n"
            ]
          },
          "metadata": {}
        },
        {
          "output_type": "display_data",
          "data": {
            "text/plain": [
              "\u001b[1m Non-trainable params: \u001b[0m\u001b[38;5;34m0\u001b[0m (0.00 B)\n"
            ],
            "text/html": [
              "<pre style=\"white-space:pre;overflow-x:auto;line-height:normal;font-family:Menlo,'DejaVu Sans Mono',consolas,'Courier New',monospace\"><span style=\"font-weight: bold\"> Non-trainable params: </span><span style=\"color: #00af00; text-decoration-color: #00af00\">0</span> (0.00 B)\n",
              "</pre>\n"
            ]
          },
          "metadata": {}
        },
        {
          "output_type": "display_data",
          "data": {
            "text/plain": [
              "\u001b[1m Optimizer params: \u001b[0m\u001b[38;5;34m17,803\u001b[0m (69.55 KB)\n"
            ],
            "text/html": [
              "<pre style=\"white-space:pre;overflow-x:auto;line-height:normal;font-family:Menlo,'DejaVu Sans Mono',consolas,'Courier New',monospace\"><span style=\"font-weight: bold\"> Optimizer params: </span><span style=\"color: #00af00; text-decoration-color: #00af00\">17,803</span> (69.55 KB)\n",
              "</pre>\n"
            ]
          },
          "metadata": {}
        }
      ]
    },
    {
      "cell_type": "code",
      "source": [
        "#Initialising the model\n",
        "regressorLSTM = Sequential()\n",
        "\n",
        "#Adding LSTM layers\n",
        "regressorLSTM.add(LSTM(50,\n",
        "                       return_sequences = True,\n",
        "                       input_shape = (X_train.shape[1],1)))\n",
        "regressorLSTM.add(LSTM(50,\n",
        "                       return_sequences = False))\n",
        "regressorLSTM.add(Dense(25))\n",
        "\n",
        "#Adding the output layer\n",
        "regressorLSTM.add(Dense(1))\n",
        "\n",
        "#Compiling the model\n",
        "regressorLSTM.compile(optimizer = 'adam',\n",
        "                      loss = 'mean_squared_error',\n",
        "                      metrics = [\"accuracy\"])\n",
        "\n",
        "#Fitting the model\n",
        "regressorLSTM.fit(X_train,\n",
        "                  y_train,\n",
        "                  batch_size = 1,\n",
        "                  epochs = 12)\n",
        "regressorLSTM.summary()\n"
      ],
      "metadata": {
        "colab": {
          "base_uri": "https://localhost:8080/",
          "height": 706
        },
        "id": "3DH_ORosM7hZ",
        "outputId": "9666e367-d406-4c46-cc65-8b03e4c1ea9d"
      },
      "execution_count": 14,
      "outputs": [
        {
          "output_type": "stream",
          "name": "stdout",
          "text": [
            "Epoch 1/12\n",
            "\u001b[1m555/555\u001b[0m \u001b[32m━━━━━━━━━━━━━━━━━━━━\u001b[0m\u001b[37m\u001b[0m \u001b[1m15s\u001b[0m 22ms/step - accuracy: 2.7161e-04 - loss: 0.0111\n",
            "Epoch 2/12\n",
            "\u001b[1m555/555\u001b[0m \u001b[32m━━━━━━━━━━━━━━━━━━━━\u001b[0m\u001b[37m\u001b[0m \u001b[1m13s\u001b[0m 23ms/step - accuracy: 9.2631e-04 - loss: 0.0026\n",
            "Epoch 3/12\n",
            "\u001b[1m555/555\u001b[0m \u001b[32m━━━━━━━━━━━━━━━━━━━━\u001b[0m\u001b[37m\u001b[0m \u001b[1m22s\u001b[0m 26ms/step - accuracy: 7.4142e-04 - loss: 0.0018\n",
            "Epoch 4/12\n",
            "\u001b[1m555/555\u001b[0m \u001b[32m━━━━━━━━━━━━━━━━━━━━\u001b[0m\u001b[37m\u001b[0m \u001b[1m12s\u001b[0m 22ms/step - accuracy: 0.0015 - loss: 0.0015\n",
            "Epoch 5/12\n",
            "\u001b[1m555/555\u001b[0m \u001b[32m━━━━━━━━━━━━━━━━━━━━\u001b[0m\u001b[37m\u001b[0m \u001b[1m20s\u001b[0m 22ms/step - accuracy: 0.0025 - loss: 0.0014\n",
            "Epoch 6/12\n",
            "\u001b[1m555/555\u001b[0m \u001b[32m━━━━━━━━━━━━━━━━━━━━\u001b[0m\u001b[37m\u001b[0m \u001b[1m21s\u001b[0m 23ms/step - accuracy: 0.0013 - loss: 9.8577e-04\n",
            "Epoch 7/12\n",
            "\u001b[1m555/555\u001b[0m \u001b[32m━━━━━━━━━━━━━━━━━━━━\u001b[0m\u001b[37m\u001b[0m \u001b[1m19s\u001b[0m 20ms/step - accuracy: 7.1237e-04 - loss: 8.3331e-04\n",
            "Epoch 8/12\n",
            "\u001b[1m555/555\u001b[0m \u001b[32m━━━━━━━━━━━━━━━━━━━━\u001b[0m\u001b[37m\u001b[0m \u001b[1m22s\u001b[0m 22ms/step - accuracy: 4.0013e-04 - loss: 0.0010\n",
            "Epoch 9/12\n",
            "\u001b[1m555/555\u001b[0m \u001b[32m━━━━━━━━━━━━━━━━━━━━\u001b[0m\u001b[37m\u001b[0m \u001b[1m21s\u001b[0m 22ms/step - accuracy: 0.0010 - loss: 0.0010\n",
            "Epoch 10/12\n",
            "\u001b[1m555/555\u001b[0m \u001b[32m━━━━━━━━━━━━━━━━━━━━\u001b[0m\u001b[37m\u001b[0m \u001b[1m20s\u001b[0m 22ms/step - accuracy: 9.3716e-04 - loss: 7.5083e-04\n",
            "Epoch 11/12\n",
            "\u001b[1m555/555\u001b[0m \u001b[32m━━━━━━━━━━━━━━━━━━━━\u001b[0m\u001b[37m\u001b[0m \u001b[1m12s\u001b[0m 22ms/step - accuracy: 8.7302e-04 - loss: 9.1905e-04\n",
            "Epoch 12/12\n",
            "\u001b[1m555/555\u001b[0m \u001b[32m━━━━━━━━━━━━━━━━━━━━\u001b[0m\u001b[37m\u001b[0m \u001b[1m20s\u001b[0m 22ms/step - accuracy: 6.3253e-04 - loss: 7.3740e-04\n"
          ]
        },
        {
          "output_type": "display_data",
          "data": {
            "text/plain": [
              "\u001b[1mModel: \"sequential_1\"\u001b[0m\n"
            ],
            "text/html": [
              "<pre style=\"white-space:pre;overflow-x:auto;line-height:normal;font-family:Menlo,'DejaVu Sans Mono',consolas,'Courier New',monospace\"><span style=\"font-weight: bold\">Model: \"sequential_1\"</span>\n",
              "</pre>\n"
            ]
          },
          "metadata": {}
        },
        {
          "output_type": "display_data",
          "data": {
            "text/plain": [
              "┏━━━━━━━━━━━━━━━━━━━━━━━━━━━━━━━━━━━━━━┳━━━━━━━━━━━━━━━━━━━━━━━━━━━━━┳━━━━━━━━━━━━━━━━━┓\n",
              "┃\u001b[1m \u001b[0m\u001b[1mLayer (type)                        \u001b[0m\u001b[1m \u001b[0m┃\u001b[1m \u001b[0m\u001b[1mOutput Shape               \u001b[0m\u001b[1m \u001b[0m┃\u001b[1m \u001b[0m\u001b[1m        Param #\u001b[0m\u001b[1m \u001b[0m┃\n",
              "┡━━━━━━━━━━━━━━━━━━━━━━━━━━━━━━━━━━━━━━╇━━━━━━━━━━━━━━━━━━━━━━━━━━━━━╇━━━━━━━━━━━━━━━━━┩\n",
              "│ lstm (\u001b[38;5;33mLSTM\u001b[0m)                          │ (\u001b[38;5;45mNone\u001b[0m, \u001b[38;5;34m50\u001b[0m, \u001b[38;5;34m50\u001b[0m)              │          \u001b[38;5;34m10,400\u001b[0m │\n",
              "├──────────────────────────────────────┼─────────────────────────────┼─────────────────┤\n",
              "│ lstm_1 (\u001b[38;5;33mLSTM\u001b[0m)                        │ (\u001b[38;5;45mNone\u001b[0m, \u001b[38;5;34m50\u001b[0m)                  │          \u001b[38;5;34m20,200\u001b[0m │\n",
              "├──────────────────────────────────────┼─────────────────────────────┼─────────────────┤\n",
              "│ dense_1 (\u001b[38;5;33mDense\u001b[0m)                      │ (\u001b[38;5;45mNone\u001b[0m, \u001b[38;5;34m25\u001b[0m)                  │           \u001b[38;5;34m1,275\u001b[0m │\n",
              "├──────────────────────────────────────┼─────────────────────────────┼─────────────────┤\n",
              "│ dense_2 (\u001b[38;5;33mDense\u001b[0m)                      │ (\u001b[38;5;45mNone\u001b[0m, \u001b[38;5;34m1\u001b[0m)                   │              \u001b[38;5;34m26\u001b[0m │\n",
              "└──────────────────────────────────────┴─────────────────────────────┴─────────────────┘\n"
            ],
            "text/html": [
              "<pre style=\"white-space:pre;overflow-x:auto;line-height:normal;font-family:Menlo,'DejaVu Sans Mono',consolas,'Courier New',monospace\">┏━━━━━━━━━━━━━━━━━━━━━━━━━━━━━━━━━━━━━━┳━━━━━━━━━━━━━━━━━━━━━━━━━━━━━┳━━━━━━━━━━━━━━━━━┓\n",
              "┃<span style=\"font-weight: bold\"> Layer (type)                         </span>┃<span style=\"font-weight: bold\"> Output Shape                </span>┃<span style=\"font-weight: bold\">         Param # </span>┃\n",
              "┡━━━━━━━━━━━━━━━━━━━━━━━━━━━━━━━━━━━━━━╇━━━━━━━━━━━━━━━━━━━━━━━━━━━━━╇━━━━━━━━━━━━━━━━━┩\n",
              "│ lstm (<span style=\"color: #0087ff; text-decoration-color: #0087ff\">LSTM</span>)                          │ (<span style=\"color: #00d7ff; text-decoration-color: #00d7ff\">None</span>, <span style=\"color: #00af00; text-decoration-color: #00af00\">50</span>, <span style=\"color: #00af00; text-decoration-color: #00af00\">50</span>)              │          <span style=\"color: #00af00; text-decoration-color: #00af00\">10,400</span> │\n",
              "├──────────────────────────────────────┼─────────────────────────────┼─────────────────┤\n",
              "│ lstm_1 (<span style=\"color: #0087ff; text-decoration-color: #0087ff\">LSTM</span>)                        │ (<span style=\"color: #00d7ff; text-decoration-color: #00d7ff\">None</span>, <span style=\"color: #00af00; text-decoration-color: #00af00\">50</span>)                  │          <span style=\"color: #00af00; text-decoration-color: #00af00\">20,200</span> │\n",
              "├──────────────────────────────────────┼─────────────────────────────┼─────────────────┤\n",
              "│ dense_1 (<span style=\"color: #0087ff; text-decoration-color: #0087ff\">Dense</span>)                      │ (<span style=\"color: #00d7ff; text-decoration-color: #00d7ff\">None</span>, <span style=\"color: #00af00; text-decoration-color: #00af00\">25</span>)                  │           <span style=\"color: #00af00; text-decoration-color: #00af00\">1,275</span> │\n",
              "├──────────────────────────────────────┼─────────────────────────────┼─────────────────┤\n",
              "│ dense_2 (<span style=\"color: #0087ff; text-decoration-color: #0087ff\">Dense</span>)                      │ (<span style=\"color: #00d7ff; text-decoration-color: #00d7ff\">None</span>, <span style=\"color: #00af00; text-decoration-color: #00af00\">1</span>)                   │              <span style=\"color: #00af00; text-decoration-color: #00af00\">26</span> │\n",
              "└──────────────────────────────────────┴─────────────────────────────┴─────────────────┘\n",
              "</pre>\n"
            ]
          },
          "metadata": {}
        },
        {
          "output_type": "display_data",
          "data": {
            "text/plain": [
              "\u001b[1m Total params: \u001b[0m\u001b[38;5;34m95,705\u001b[0m (373.85 KB)\n"
            ],
            "text/html": [
              "<pre style=\"white-space:pre;overflow-x:auto;line-height:normal;font-family:Menlo,'DejaVu Sans Mono',consolas,'Courier New',monospace\"><span style=\"font-weight: bold\"> Total params: </span><span style=\"color: #00af00; text-decoration-color: #00af00\">95,705</span> (373.85 KB)\n",
              "</pre>\n"
            ]
          },
          "metadata": {}
        },
        {
          "output_type": "display_data",
          "data": {
            "text/plain": [
              "\u001b[1m Trainable params: \u001b[0m\u001b[38;5;34m31,901\u001b[0m (124.61 KB)\n"
            ],
            "text/html": [
              "<pre style=\"white-space:pre;overflow-x:auto;line-height:normal;font-family:Menlo,'DejaVu Sans Mono',consolas,'Courier New',monospace\"><span style=\"font-weight: bold\"> Trainable params: </span><span style=\"color: #00af00; text-decoration-color: #00af00\">31,901</span> (124.61 KB)\n",
              "</pre>\n"
            ]
          },
          "metadata": {}
        },
        {
          "output_type": "display_data",
          "data": {
            "text/plain": [
              "\u001b[1m Non-trainable params: \u001b[0m\u001b[38;5;34m0\u001b[0m (0.00 B)\n"
            ],
            "text/html": [
              "<pre style=\"white-space:pre;overflow-x:auto;line-height:normal;font-family:Menlo,'DejaVu Sans Mono',consolas,'Courier New',monospace\"><span style=\"font-weight: bold\"> Non-trainable params: </span><span style=\"color: #00af00; text-decoration-color: #00af00\">0</span> (0.00 B)\n",
              "</pre>\n"
            ]
          },
          "metadata": {}
        },
        {
          "output_type": "display_data",
          "data": {
            "text/plain": [
              "\u001b[1m Optimizer params: \u001b[0m\u001b[38;5;34m63,804\u001b[0m (249.24 KB)\n"
            ],
            "text/html": [
              "<pre style=\"white-space:pre;overflow-x:auto;line-height:normal;font-family:Menlo,'DejaVu Sans Mono',consolas,'Courier New',monospace\"><span style=\"font-weight: bold\"> Optimizer params: </span><span style=\"color: #00af00; text-decoration-color: #00af00\">63,804</span> (249.24 KB)\n",
              "</pre>\n"
            ]
          },
          "metadata": {}
        }
      ]
    },
    {
      "cell_type": "code",
      "source": [
        "#Initialising the model\n",
        "regressorGRU = Sequential()\n",
        "\n",
        "# GRU layers with Dropout regularisation\n",
        "regressorGRU.add(GRU(units=50,\n",
        "                     return_sequences=True,\n",
        "                     input_shape=(X_train.shape[1],1),\n",
        "                     activation='tanh'))\n",
        "regressorGRU.add(Dropout(0.2))\n",
        "\n",
        "regressorGRU.add(GRU(units=50,\n",
        "                     return_sequences=True,\n",
        "                     activation='tanh'))\n",
        "\n",
        "regressorGRU.add(GRU(units=50,\n",
        "                     return_sequences=True,\n",
        "                     activation='tanh'))\n",
        "\n",
        "regressorGRU.add(GRU(units=50,\n",
        "                     activation='tanh'))\n",
        "\n",
        "# The output layer\n",
        "regressorGRU.add(Dense(units=1,\n",
        "                       activation='relu'))\n",
        "# Compiling the RNN\n",
        "regressorGRU.compile(optimizer=SGD(learning_rate=0.01,\n",
        "                                   decay=1e-7,\n",
        "                                   momentum=0.9,\n",
        "                                   nesterov=False),\n",
        "                     loss='mean_squared_error')\n",
        "\n",
        "# Fitting the data\n",
        "regressorGRU.fit(X_train,y_train,epochs=20,batch_size=1)\n",
        "regressorGRU.summary()\n"
      ],
      "metadata": {
        "id": "qy4UQTvcQ2c6"
      },
      "execution_count": null,
      "outputs": []
    },
    {
      "cell_type": "code",
      "source": [
        "# predictions with X_test data\n",
        "y_RNN = regressor.predict(X_test)\n",
        "y_LSTM = regressorLSTM.predict(X_test)\n",
        "y_GRU = regressorGRU.predict(X_test)"
      ],
      "metadata": {
        "id": "6kotMWIwQ90-"
      },
      "execution_count": null,
      "outputs": []
    },
    {
      "cell_type": "code",
      "source": [
        "# scaling back from 0-1 to original\n",
        "y_RNN_O = scaler.inverse_transform(y_RNN)\n",
        "y_LSTM_O = scaler.inverse_transform(y_LSTM)\n",
        "y_GRU_O = scaler.inverse_transform(y_GRU)"
      ],
      "metadata": {
        "id": "Zcousll0Q-io"
      },
      "execution_count": null,
      "outputs": []
    },
    {
      "cell_type": "code",
      "source": [
        "fig, axs = plt.subplots(3,figsize =(18,12),sharex=True, sharey=True)\n",
        "fig.suptitle('Model Predictions')\n",
        "\n",
        "#Plot for RNN predictions\n",
        "axs[0].plot(train_data.index[150:], train_data.Open[150:], label = \"train_data\", color = \"b\")\n",
        "axs[0].plot(test_data.index, test_data.Open, label = \"test_data\", color = \"g\")\n",
        "axs[0].plot(test_data.index[50:], y_RNN_O, label = \"y_RNN\", color = \"brown\")\n",
        "axs[0].legend()\n",
        "axs[0].title.set_text(\"Basic RNN\")\n",
        "\n",
        "#Plot for LSTM predictions\n",
        "axs[1].plot(train_data.index[150:], train_data.Open[150:], label = \"train_data\", color = \"b\")\n",
        "axs[1].plot(test_data.index, test_data.Open, label = \"test_data\", color = \"g\")\n",
        "axs[1].plot(test_data.index[50:], y_LSTM_O, label = \"y_LSTM\", color = \"orange\")\n",
        "axs[1].legend()\n",
        "axs[1].title.set_text(\"LSTM\")\n",
        "\n",
        "#Plot for GRU predictions\n",
        "axs[2].plot(train_data.index[150:], train_data.Open[150:], label = \"train_data\", color = \"b\")\n",
        "axs[2].plot(test_data.index, test_data.Open, label = \"test_data\", color = \"g\")\n",
        "axs[2].plot(test_data.index[50:], y_GRU_O, label = \"y_GRU\", color = \"red\")\n",
        "axs[2].legend()\n",
        "axs[2].title.set_text(\"GRU\")\n",
        "\n",
        "plt.xlabel(\"Days\")\n",
        "plt.ylabel(\"Open price\")\n",
        "\n",
        "plt.show()\n"
      ],
      "metadata": {
        "id": "XFHVQFF-RJui"
      },
      "execution_count": null,
      "outputs": []
    }
  ]
}