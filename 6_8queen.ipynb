{
  "nbformat": 4,
  "nbformat_minor": 0,
  "metadata": {
    "colab": {
      "provenance": [],
      "authorship_tag": "ABX9TyNHCqDHJdPZ5mId+FbgEtTX",
      "include_colab_link": true
    },
    "kernelspec": {
      "name": "python3",
      "display_name": "Python 3"
    },
    "language_info": {
      "name": "python"
    }
  },
  "cells": [
    {
      "cell_type": "markdown",
      "metadata": {
        "id": "view-in-github",
        "colab_type": "text"
      },
      "source": [
        "<a href=\"https://colab.research.google.com/github/sahilnagarkar36/AI-DL/blob/main/6_8queen.ipynb\" target=\"_parent\"><img src=\"https://colab.research.google.com/assets/colab-badge.svg\" alt=\"Open In Colab\"/></a>"
      ]
    },
    {
      "cell_type": "code",
      "execution_count": null,
      "metadata": {
        "colab": {
          "base_uri": "https://localhost:8080/"
        },
        "id": "SlTNK5AyZLHq",
        "outputId": "5b26359e-7e07-47fe-9640-a8e3cfd2d6d7"
      },
      "outputs": [
        {
          "output_type": "stream",
          "name": "stdout",
          "text": [
            "[[1, 0, 0, 0, 0, 0, 0, 0], [0, 0, 0, 0, 0, 0, 1, 0], [0, 0, 0, 0, 1, 0, 0, 0], [0, 0, 0, 0, 0, 0, 0, 1], [0, 1, 0, 0, 0, 0, 0, 0], [0, 0, 0, 1, 0, 0, 0, 0], [0, 0, 0, 0, 0, 1, 0, 0], [0, 0, 1, 0, 0, 0, 0, 0]]\n"
          ]
        }
      ],
      "source": [
        "N = 8 # (size of the chessboard)\n",
        "\n",
        "def solveNQueens(board, col):\n",
        "\tif col == N:\n",
        "\t\tprint(board)\n",
        "\t\treturn True\n",
        "\tfor i in range(N):\n",
        "\t\tif isSafe(board, i, col):\n",
        "\t\t\tboard[i][col] = 1\n",
        "\t\t\tif solveNQueens(board, col + 1):\n",
        "\t\t\t\treturn True\n",
        "\t\t\tboard[i][col] = 0\n",
        "\treturn False\n",
        "\n",
        "def isSafe(board, row, col):\n",
        "\tfor x in range(col):\n",
        "\t\tif board[row][x] == 1:\n",
        "\t\t\treturn False\n",
        "\tfor x, y in zip(range(row, -1, -1), range(col, -1, -1)):\n",
        "\t\tif board[x][y] == 1:\n",
        "\t\t\treturn False\n",
        "\tfor x, y in zip(range(row, N, 1), range(col, -1, -1)):\n",
        "\t\tif board[x][y] == 1:\n",
        "\t\t\treturn False\n",
        "\treturn True\n",
        "\n",
        "board = [[0 for x in range(N)] for y in range(N)]\n",
        "if not solveNQueens(board, 0):\n",
        "\tprint(\"No solution found\")\n"
      ]
    }
  ]
}