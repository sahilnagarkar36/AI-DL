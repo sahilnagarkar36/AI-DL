{
  "nbformat": 4,
  "nbformat_minor": 0,
  "metadata": {
    "colab": {
      "provenance": [],
      "authorship_tag": "ABX9TyM0vi7LT+cSWh7JF3i+Sas8",
      "include_colab_link": true
    },
    "kernelspec": {
      "name": "python3",
      "display_name": "Python 3"
    },
    "language_info": {
      "name": "python"
    }
  },
  "cells": [
    {
      "cell_type": "markdown",
      "metadata": {
        "id": "view-in-github",
        "colab_type": "text"
      },
      "source": [
        "<a href=\"https://colab.research.google.com/github/sahilnagarkar36/AI-DL/blob/main/5Opencv.ipynb\" target=\"_parent\"><img src=\"https://colab.research.google.com/assets/colab-badge.svg\" alt=\"Open In Colab\"/></a>"
      ]
    },
    {
      "cell_type": "code",
      "source": [
        "# Step 1: Install the required packages\n",
        "# You can run these commands in your command line or notebook environment\n",
        "# !pip install opencv-python-headless pytesseract\n",
        "\n",
        "# For Tesseract-OCR, you need to install it separately:\n",
        "# - On Windows, download the installer from https://github.com/UB-Mannheim/tesseract/wiki\n",
        "# - On Ubuntu, you can use: sudo apt-get install tesseract-ocr\n",
        "# - On MacOS, you can use: brew install tesseract\n",
        "\n",
        "# Import required packages\n",
        "import cv2\n",
        "import pytesseract\n",
        "\n",
        "# Step 2: Mention the installed location of Tesseract-OCR in your system\n",
        "# Adjust the path based on your Tesseract installation\n",
        "pytesseract.pytesseract.tesseract_cmd = r'C:\\Program Files\\Tesseract-OCR\\tesseract.exe'  # Windows path\n",
        "# pytesseract.pytesseract.tesseract_cmd = '/usr/local/bin/tesseract'  # MacOS path\n",
        "# pytesseract.pytesseract.tesseract_cmd = '/usr/bin/tesseract'  # Linux path\n",
        "\n",
        "# Step 3: Read image from which text needs to be extracted\n",
        "img = cv2.imread(\"sample.jpg\")\n",
        "\n",
        "# Preprocessing the image starts\n",
        "\n",
        "# Convert the image to gray scale\n",
        "gray = cv2.cvtColor(img, cv2.COLOR_BGR2GRAY)\n",
        "\n",
        "# Performing OTSU threshold\n",
        "ret, thresh1 = cv2.threshold(gray, 0, 255, cv2.THRESH_OTSU | cv2.THRESH_BINARY_INV)\n",
        "\n",
        "# Specify structure shape and kernel size.\n",
        "# Kernel size increases or decreases the area\n",
        "# of the rectangle to be detected.\n",
        "# A smaller value like (10, 10) will detect\n",
        "# each word instead of a sentence.\n",
        "rect_kernel = cv2.getStructuringElement(cv2.MORPH_RECT, (18, 18))\n",
        "\n",
        "# Applying dilation on the threshold image\n",
        "dilation = cv2.dilate(thresh1, rect_kernel, iterations=1)\n",
        "\n",
        "# Finding contours\n",
        "contours, hierarchy = cv2.findContours(dilation, cv2.RETR_EXTERNAL, cv2.CHAIN_APPROX_NONE)\n",
        "\n",
        "# Creating a copy of image\n",
        "im2 = img.copy()\n",
        "\n",
        "# A text file is created and flushed\n",
        "file = open(\"recognized.txt\", \"w+\")\n",
        "file.write(\"\")\n",
        "file.close()\n",
        "\n",
        "# Looping through the identified contours\n",
        "# Then rectangular part is cropped and passed on\n",
        "# to pytesseract for extracting text from it\n",
        "# Extracted text is then written into the text file\n",
        "for cnt in contours:\n",
        "    x, y, w, h = cv2.boundingRect(cnt)\n",
        "\n",
        "    # Drawing a rectangle on copied image\n",
        "    rect = cv2.rectangle(im2, (x, y), (x + w, y + h), (0, 255, 0), 2)\n",
        "\n",
        "    # Cropping the text block for giving input to OCR\n",
        "    cropped = im2[y:y + h, x:x + w]\n",
        "\n",
        "    # Open the file in append mode\n",
        "    file = open(\"recognized.txt\", \"a\")\n",
        "\n",
        "    # Apply OCR on the cropped image\n",
        "    text = pytesseract.image_to_string(cropped)\n",
        "\n",
        "    # Appending the text into file\n",
        "    file.write(text)\n",
        "    file.write(\"\\n\")\n",
        "\n",
        "    # Close the file\n",
        "    file.close()\n",
        "\n",
        "print(\"Text extraction complete. Check the 'recognized.txt' file for results.\")\n"
      ],
      "metadata": {
        "id": "DTmyRa6mPHjf"
      },
      "execution_count": null,
      "outputs": []
    }
  ]
}